{
 "cells": [
  {
   "cell_type": "code",
   "execution_count": 1,
   "id": "b37b65e4-fe01-4d07-9758-dcd3221d53ba",
   "metadata": {},
   "outputs": [
    {
     "name": "stdout",
     "output_type": "stream",
     "text": [
      "Downloading https://habrastorage.org/files/d7f/c1a/c07/d7fc1ac07c244551b7198a5caae9d687.jpg to 'd7fc1ac07c244551b7198a5caae9d687.jpg'...\n"
     ]
    },
    {
     "name": "stderr",
     "output_type": "stream",
     "text": [
      "100%|██████████| 240k/240k [00:00<00:00, 255kB/s]\n"
     ]
    },
    {
     "data": {
      "text/html": [
       "<img src=\"https://habrastorage.org/files/d7f/c1a/c07/d7fc1ac07c244551b7198a5caae9d687.jpg\"/>"
      ],
      "text/plain": [
       "<IPython.core.display.Image object>"
      ]
     },
     "metadata": {},
     "output_type": "display_data"
    },
    {
     "name": "stdout",
     "output_type": "stream",
     "text": [
      "Топ 5 наиболее вероятных предсказаний модели\n",
      "+-----+----------+--------------+\n",
      "|   № | Name     |   Confidence |\n",
      "+=====+==========+==============+\n",
      "|   1 | airliner |   0.744805   |\n",
      "+-----+----------+--------------+\n",
      "|   2 | wing     |   0.198448   |\n",
      "+-----+----------+--------------+\n",
      "|   3 | warplane |   0.0273762  |\n",
      "+-----+----------+--------------+\n",
      "|   4 | airship  |   0.00766505 |\n",
      "+-----+----------+--------------+\n",
      "|   5 | missile  |   0.00500151 |\n",
      "+-----+----------+--------------+\n"
     ]
    }
   ],
   "source": [
    "from ultralytics import YOLO\n",
    "from IPython.display import Image, display\n",
    "from tabulate import tabulate\n",
    "\n",
    "model = YOLO(\"yolo11n-cls.pt\")\n",
    "\n",
    "result = model(source=\"https://habrastorage.org/files/d7f/c1a/c07/d7fc1ac07c244551b7198a5caae9d687.jpg\", verbose=False)\n",
    "for r in result:\n",
    "    names = r.names\n",
    "    index = r.probs.top5\n",
    "    conf = r.probs.top5conf\n",
    "    data = [[\"№\", \"Name\", \"Confidence\"]]\n",
    "    for i, inx in enumerate(index):\n",
    "        data.append([i + 1, names[inx], conf[i]])\n",
    "    display(Image(url=\"https://habrastorage.org/files/d7f/c1a/c07/d7fc1ac07c244551b7198a5caae9d687.jpg\"))\n",
    "    print(\"Топ 5 наиболее вероятных предсказаний модели\")\n",
    "    print(tabulate(data, headers=\"firstrow\", tablefmt=\"grid\"))\n",
    "\n",
    "#можно просто\n",
    "for r in result:\n",
    "    r.show()"
   ]
  },
  {
   "cell_type": "code",
   "execution_count": 3,
   "id": "f155b1f2-1c42-4cc2-8a59-2baad9525e78",
   "metadata": {},
   "outputs": [
    {
     "name": "stderr",
     "output_type": "stream",
     "text": [
      "Device set to use cpu\n"
     ]
    },
    {
     "name": "stdout",
     "output_type": "stream",
     "text": [
      "[{'label': 'optimism', 'score': 0.5080261826515198}, {'label': 'neutral', 'score': 0.35488829016685486}, {'label': 'curiosity', 'score': 0.6325516700744629}]\n"
     ]
    }
   ],
   "source": [
    "from transformers import pipeline\n",
    "\n",
    "model = pipeline(\"sentiment-analysis\", model=\"seara/rubert-tiny2-russian-emotion-detection-ru-go-emotions\")\n",
    "\n",
    "data = [\"\"\"На рассвете первые лучи солнца осторожно касались земли, пробуждая всё вокруг. \n",
    "           Лёгкий ветерок переносил ароматы цветов, шёпот листвы и обещания нового дня. \n",
    "           Мир замирал в тишине, где каждая деталь обретала смысл. \n",
    "           В эти мгновения казалось, что сама природа напоминала нам ценить её простоту и красоту.\n",
    "        \"\"\",\n",
    "        \"\"\"Современные технологии оказывают значительное влияние на повседневную жизнь человека. \n",
    "           Сфера применения инноваций охватывает множество областей: от медицины и образования до промышленности и развлечений. \n",
    "           Развитие искусственного интеллекта и автоматизации позволяет решать сложные задачи быстрее и эффективнее, \n",
    "           однако требует продуманного подхода для минимизации возможных рисков и этических вопросов.\n",
    "        \"\"\",\n",
    "         \"\"\"Слушай, ты ведь можешь лучше. \n",
    "           Ты берёшься за интересные вещи, но почему не доводишь их до конца? \n",
    "           Перестань откладывать на потом. Это только твоя ответственность. \n",
    "           Если не начнёшь действовать сейчас, кто будет за это отвечать? \n",
    "           Ты знаешь, что у тебя есть потенциал — так используй его!\n",
    "        \"\"\"]\n",
    "\n",
    "print(model(data))"
   ]
  },
  {
   "cell_type": "code",
   "execution_count": 7,
   "id": "a6d7898b-cea0-48cf-90f7-ec44a2026535",
   "metadata": {},
   "outputs": [
    {
     "name": "stderr",
     "output_type": "stream",
     "text": [
      "Device set to use cpu\n",
      "The attention mask and the pad token id were not set. As a consequence, you may observe unexpected behavior. Please pass your input's `attention_mask` to obtain reliable results.\n",
      "Setting `pad_token_id` to `eos_token_id`:10000 for open-end generation.\n"
     ]
    }
   ],
   "source": [
    "import scipy.io.wavfile as wav\n",
    "import numpy as np\n",
    "\n",
    "model = pipeline(\"text-to-audio\", model=\"suno/bark-small\")\n",
    "\n",
    "result = model(\"\"\"На рассвете первые лучи солнца осторожно касались земли, пробуждая всё вокруг. \n",
    "                  Лёгкий ветерок переносил ароматы цветов, шёпот листвы и обещания нового дня. \n",
    "                  Мир замирал в тишине, где каждая деталь обретала смысл. \n",
    "                  В эти мгновения казалось, что сама природа напоминала нам ценить её простоту и красоту.\n",
    "               \"\"\", forward_params={\"do_sample\": True})\n",
    "\n",
    "audio = (result[\"audio\"] * 32767).astype(np.int16).squeeze()\n",
    "rate = result[\"sampling_rate\"]\n",
    "\n",
    "wav.write(filename=\"test.wav\", data=audio, rate=rate)"
   ]
  }
 ],
 "metadata": {
  "kernelspec": {
   "display_name": "Python [conda env:base] *",
   "language": "python",
   "name": "conda-base-py"
  },
  "language_info": {
   "codemirror_mode": {
    "name": "ipython",
    "version": 3
   },
   "file_extension": ".py",
   "mimetype": "text/x-python",
   "name": "python",
   "nbconvert_exporter": "python",
   "pygments_lexer": "ipython3",
   "version": "3.10.16"
  }
 },
 "nbformat": 4,
 "nbformat_minor": 5
}
